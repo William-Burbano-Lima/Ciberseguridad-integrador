{
  "nbformat": 4,
  "nbformat_minor": 0,
  "metadata": {
    "colab": {
      "provenance": [],
      "authorship_tag": "ABX9TyMNgeb8stv2kCTciKEDJBZF",
      "include_colab_link": true
    },
    "kernelspec": {
      "name": "python3",
      "display_name": "Python 3"
    },
    "language_info": {
      "name": "python"
    }
  },
  "cells": [
    {
      "cell_type": "markdown",
      "metadata": {
        "id": "view-in-github",
        "colab_type": "text"
      },
      "source": [
        "<a href=\"https://colab.research.google.com/github/William-Burbano-Lima/Ciberseguridad-integrador/blob/main/descifrar_clave_extendida.ipynb\" target=\"_parent\"><img src=\"https://colab.research.google.com/assets/colab-badge.svg\" alt=\"Open In Colab\"/></a>"
      ]
    },
    {
      "cell_type": "code",
      "execution_count": null,
      "metadata": {
        "id": "M4veckqW1MH_"
      },
      "outputs": [],
      "source": []
    },
    {
      "cell_type": "markdown",
      "source": [
        "Talento Tech - Ciberseguridad\n",
        "___\n"
      ],
      "metadata": {
        "id": "tuZWjBXE1t8Z"
      }
    },
    {
      "cell_type": "markdown",
      "source": [
        "PROGRAMA PARA CIFRAR MENSAJES CON CLAVE EXTENDIDA (ALFAMUNERICA)\n"
      ],
      "metadata": {
        "id": "J2yqfWAD1M2a"
      }
    },
    {
      "cell_type": "code",
      "source": [
        "def extender_clave(mensaje, clave):\n",
        "    clave = clave.lower()\n",
        "    clave_extendida = (clave * (len(mensaje) // len(clave))) + clave[:len(mensaje) % len(clave)]\n",
        "    return clave_extendida\n",
        "\n",
        "def cifrar_con_cadena(mensaje, clave):\n",
        "    mensaje_cifrado = \"\"\n",
        "    clave_extendida = extender_clave(mensaje, clave)\n",
        "\n",
        "    for i in range(len(mensaje)):\n",
        "        if mensaje[i].isalpha():\n",
        "            desplazamiento = ord(clave_extendida[i]) - ord('a')\n",
        "            if mensaje[i].islower():\n",
        "                mensaje_cifrado += chr((ord(mensaje[i]) - ord('a') + desplazamiento) % 26 + ord('a'))\n",
        "            else:\n",
        "                mensaje_cifrado += chr((ord(mensaje[i]) - ord('A') + desplazamiento) % 26 + ord('A'))\n",
        "        else:\n",
        "            mensaje_cifrado += mensaje[i]\n",
        "    return mensaje_cifrado\n",
        "\n",
        "# Solicitar entrada del usuario\n",
        "mensaje = input(\"Ingrese el mensaje a cifrar: \")\n",
        "clave = input(\"Ingrese la clave: \")\n",
        "\n",
        "# Cifrar el mensaje\n",
        "mensaje_cifrado = cifrar_con_cadena(mensaje, clave)\n",
        "\n",
        "# Mostrar el mensaje cifrado\n",
        "print(\"Mensaje Cifrado:\", mensaje_cifrado)"
      ],
      "metadata": {
        "colab": {
          "base_uri": "https://localhost:8080/"
        },
        "id": "G_m7IpV81Z8P",
        "outputId": "5187e2cc-6d89-40c7-e825-2ac6c6099795"
      },
      "execution_count": 1,
      "outputs": [
        {
          "output_type": "stream",
          "name": "stdout",
          "text": [
            "Ingrese el mensaje a cifrar: HOLA\n",
            "Ingrese la clave: CLAVE\n",
            "Mensaje Cifrado: JZLV\n"
          ]
        }
      ]
    },
    {
      "cell_type": "markdown",
      "source": [],
      "metadata": {
        "id": "L9S5Q4501s1u"
      }
    }
  ]
}