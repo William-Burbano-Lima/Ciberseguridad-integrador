{
  "nbformat": 4,
  "nbformat_minor": 0,
  "metadata": {
    "colab": {
      "provenance": [],
      "authorship_tag": "ABX9TyMqiZcBfPdnibYE/yltwcB2",
      "include_colab_link": true
    },
    "kernelspec": {
      "name": "python3",
      "display_name": "Python 3"
    },
    "language_info": {
      "name": "python"
    }
  },
  "cells": [
    {
      "cell_type": "markdown",
      "metadata": {
        "id": "view-in-github",
        "colab_type": "text"
      },
      "source": [
        "<a href=\"https://colab.research.google.com/github/William-Burbano-Lima/Ciberseguridad-integrador/blob/main/Descifrado_fuerza_bruta.ipynb\" target=\"_parent\"><img src=\"https://colab.research.google.com/assets/colab-badge.svg\" alt=\"Open In Colab\"/></a>"
      ]
    },
    {
      "cell_type": "code",
      "execution_count": null,
      "metadata": {
        "id": "98H5BJyDVftB"
      },
      "outputs": [],
      "source": [
        "def cifrar_cesar(texto, desplazamiento):\n",
        "    \"\"\"Función para cifrar un mensaje utilizando el cifrado César con un desplazamiento dado.\"\"\"\n",
        "    resultado = \"\"\n",
        "    for char in texto:\n",
        "        if char.isalpha():  # Solo procesamos letras\n",
        "            # Determinamos el inicio de la letra (A o a)\n",
        "            inicio = 65 if char.isupper() else 97\n",
        "            # Realizamos el desplazamiento y nos aseguramos de que sea circular\n",
        "            resultado += chr((ord(char) - inicio + desplazamiento) % 26 + inicio)\n",
        "        else:\n",
        "            resultado += char  # Mantenemos los caracteres no alfabéticos intactos\n",
        "    return resultado\n",
        "\n",
        "def descifrar_fuerza_bruta(mensaje_cifrado):\n",
        "    \"\"\"Función para intentar descifrar un mensaje cifrado con fuerza bruta, probando todas las claves posibles.\"\"\"\n",
        "    print(\"Intentando descifrar el mensaje con fuerza bruta...\")\n",
        "    for i in range(1, 26):\n",
        "        mensaje_descifrado = cifrar_cesar(mensaje_cifrado, -i)  # Desplazamos en sentido contrario\n",
        "        print(f\"Desplazamiento {i}: {mensaje_descifrado}\")\n",
        "\n",
        "def main():\n",
        "    # Solicitamos al usuario que ingrese el mensaje cifrado\n",
        "    mensaje_cifrado = input(\"Introduce el mensaje cifrado con el cifrado César: \")\n",
        "    # Llamamos a la función de descifrado por fuerza bruta\n",
        "    descifrar_fuerza_bruta(mensaje_cifrado)\n",
        "\n",
        "# Ejecutamos el programa\n",
        "if __name__ == \"__main__\":\n",
        "    main()\n"
      ]
    }
  ]
}