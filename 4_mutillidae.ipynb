{
  "nbformat": 4,
  "nbformat_minor": 0,
  "metadata": {
    "colab": {
      "provenance": [],
      "authorship_tag": "ABX9TyPaFqns10KcgLBSnz1pswne",
      "include_colab_link": true
    },
    "kernelspec": {
      "name": "python3",
      "display_name": "Python 3"
    },
    "language_info": {
      "name": "python"
    }
  },
  "cells": [
    {
      "cell_type": "markdown",
      "metadata": {
        "id": "view-in-github",
        "colab_type": "text"
      },
      "source": [
        "<a href=\"https://colab.research.google.com/github/William-Burbano-Lima/Ciberseguridad-integrador/blob/main/4_mutillidae.ipynb\" target=\"_parent\"><img src=\"https://colab.research.google.com/assets/colab-badge.svg\" alt=\"Open In Colab\"/></a>"
      ]
    },
    {
      "cell_type": "code",
      "execution_count": null,
      "metadata": {
        "id": "FfmUBAzbFB2r"
      },
      "outputs": [],
      "source": []
    },
    {
      "cell_type": "markdown",
      "source": [
        "Talento Tech - Ciberseguridad\n",
        "___.\n",
        "\n",
        "### Pasos para Instalar Mutillidae en VirtualBox\n",
        "\n",
        "#### 1. **Preparar VirtualBox**\n",
        "\n",
        "- **Instalar VirtualBox**: Si no lo tienes, descárgalo e instálalo desde [VirtualBox](https://www.virtualbox.org/).\n",
        "- **Crear una Máquina Virtual**:\n",
        "  - Abre VirtualBox y haz clic en \"Nueva\".\n",
        "  - Elige un nombre, tipo de sistema operativo (Linux o Windows), y asigna recursos como memoria RAM y espacio en disco.\n",
        "\n",
        "#### 2. **Instalar el Sistema Operativo**\n",
        "\n",
        "- Descarga una **ISO** de Linux (como Ubuntu Server) o usa una imagen de Windows si prefieres un entorno Windows.\n",
        "- Monta la ISO en VirtualBox y sigue las instrucciones para instalar el sistema operativo dentro de la máquina virtual.\n",
        "\n",
        "#### 3. **Instalar Apache, MySQL y PHP (LAMP) en Linux**\n",
        "\n",
        "Si usas un sistema Linux, instala los componentes necesarios:\n",
        "\n",
        "- **Actualizar el Sistema**:\n",
        "  ```bash\n",
        "  sudo apt update && sudo apt upgrade\n",
        "  ```\n",
        "\n",
        "- **Instalar Apache**:\n",
        "  ```bash\n",
        "  sudo apt install apache2\n",
        "  ```\n",
        "\n",
        "- **Instalar MySQL**:\n",
        "  ```bash\n",
        "  sudo apt install mysql-server\n",
        "  ```\n",
        "\n",
        "- **Instalar PHP**:\n",
        "  ```bash\n",
        "  sudo apt install php libapache2-mod-php php-mysql\n",
        "  ```\n",
        "\n",
        "#### 4. **Configurar Mutillidae**\n",
        "\n",
        "- **Descargar Mutillidae**:\n",
        "  - Clona el repositorio de GitHub o descarga y extrae el archivo ZIP.\n",
        "  ```bash\n",
        "  git clone https://github.com/webpwnized/mutillidae.git /var/www/html/mutillidae\n",
        "  ```\n",
        "\n",
        "- **Configurar Permisos**:\n",
        "  ```bash\n",
        "  sudo chown -R www-data:www-data /var/www/html/mutillidae\n",
        "  ```\n",
        "\n",
        "- **Configurar Apache**:\n",
        "  - Asegúrate de que el servidor Apache esté corriendo.\n",
        "  ```bash\n",
        "  sudo systemctl restart apache2\n",
        "  ```\n",
        "\n",
        "- **Configurar la Base de Datos**:\n",
        "  - Inicia sesión en MySQL.\n",
        "  ```bash\n",
        "  sudo mysql -u root -p\n",
        "  ```\n",
        "  - Crea una base de datos para Mutillidae.\n",
        "  ```sql\n",
        "  CREATE DATABASE mutillidae;\n",
        "  ```\n",
        "\n",
        "#### 5. **Acceder a Mutillidae**\n",
        "\n",
        "- Abre un navegador en tu máquina anfitriona y navega a la IP de tu máquina virtual.\n",
        "  ```bash\n",
        "  http://<IP-de-la-maquina-virtual>/mutillidae\n",
        "  ```\n",
        "\n",
        "#### 6. **Instalar Mutillidae en Windows (opcional)**\n",
        "\n",
        "Si prefieres un entorno Windows en VirtualBox, puedes instalar **XAMPP** y seguir los pasos similares para configurar Mutillidae.\n",
        "\n",
        "- **Instalar XAMPP**: Descárgalo desde [Apache Friends](https://www.apachefriends.org/index.html) e instálalo.\n",
        "- **Mover Mutillidae al Directorio de XAMPP**: Coloca el directorio de Mutillidae en `C:\\xampp\\htdocs\\`.\n",
        "- **Iniciar Apache y MySQL desde XAMPP Control Panel**.\n",
        "- **Acceder a Mutillidae** usando `http://localhost/mutillidae`.\n",
        "___\n",
        "William Burbano Lima"
      ],
      "metadata": {
        "id": "Kfg0o-wXFCU1"
      }
    },
    {
      "cell_type": "code",
      "source": [],
      "metadata": {
        "id": "DFo0xthnpZsd"
      },
      "execution_count": null,
      "outputs": []
    }
  ]
}