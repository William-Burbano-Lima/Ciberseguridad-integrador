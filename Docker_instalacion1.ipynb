{
  "nbformat": 4,
  "nbformat_minor": 0,
  "metadata": {
    "colab": {
      "provenance": [],
      "authorship_tag": "ABX9TyMThPQ4zUSCJycfNeVnpNQx",
      "include_colab_link": true
    },
    "kernelspec": {
      "name": "python3",
      "display_name": "Python 3"
    },
    "language_info": {
      "name": "python"
    }
  },
  "cells": [
    {
      "cell_type": "markdown",
      "metadata": {
        "id": "view-in-github",
        "colab_type": "text"
      },
      "source": [
        "<a href=\"https://colab.research.google.com/github/William-Burbano-Lima/Ciberseguridad-integrador/blob/main/Docker_instalacion1.ipynb\" target=\"_parent\"><img src=\"https://colab.research.google.com/assets/colab-badge.svg\" alt=\"Open In Colab\"/></a>"
      ]
    },
    {
      "cell_type": "code",
      "execution_count": null,
      "metadata": {
        "id": "_T_rGQbjlcom"
      },
      "outputs": [],
      "source": []
    },
    {
      "cell_type": "markdown",
      "source": [
        "Instalacion de Docker\n",
        "Docker es un sistema operativo para contenedores que permite crear, probar e implementar aplicaciones de forma rápida. Los contenedores son unidades estandarizadas que contienen todo lo que el software necesita para ejecutarse.\n",
        "Docker permite:\n",
        "\n",
        "    Virtualizar el sistema operativo de un servidor\n",
        "    Ejecutar aplicaciones en cualquier entorno\n",
        "    Aprovechar mejor la infraestructura\n",
        "    Conservar la seguridad de los sistemas individuales\n",
        "    Separar una parte de la aplicación para actualizarla o repararla\n",
        "    Reutilizar capas para agilizar el diseño de los contenedores nuevos\n",
        "    Restaurar una imagen a una versión anterior\n",
        "    \n",
        "### **📌 Cómo saber si Docker está instalado**  \n",
        "Abre una terminal o símbolo del sistema y ejecuta:  \n",
        "\n",
        "```cmd\n",
        "docker --version\n",
        "```\n",
        "\n",
        "Si Docker está instalado, verás algo como:  \n",
        "```\n",
        "Docker version 24.0.6, build ed223bc\n",
        "```\n",
        "\n",
        "Si **NO está instalado**, el comando mostrará un error indicando que \"docker no se reconoce\".\n",
        "\n",
        "---\n",
        "\n",
        "### **📌 Cómo instalar Docker en Windows**  \n",
        "#### 🔹 **Paso 1: Descargar Docker Desktop**  \n",
        "1. Ve a la página oficial de Docker:  \n",
        "   👉 [https://www.docker.com/get-started/](https://www.docker.com/get-started/)  \n",
        "2. Descarga **Docker Desktop para Windows**.  \n",
        "\n",
        "#### 🔹 **Paso 2: Instalar Docker Desktop**  \n",
        "1. Ejecuta el instalador (`Docker Desktop Installer.exe`).  \n",
        "2. **Marca la opción \"Use WSL 2 instead of Hyper-V\"** (si usas Windows 10/11).  \n",
        "3. Haz clic en **Install** y espera a que termine.  \n",
        "4. Reinicia el equipo si es necesario.  \n",
        "\n",
        "#### 🔹 **Paso 3: Verificar la instalación**  \n",
        "Después de reiniciar, abre **Docker Desktop** y asegúrate de que dice **\"Docker Engine is running\"**.  \n",
        "\n",
        "Luego, abre una terminal y prueba con:  \n",
        "```cmd\n",
        "docker run hello-world\n",
        "```\n",
        "Si ves un mensaje que dice `\"Hello from Docker!\"`, significa que Docker está funcionando correctamente. 🎉  \n",
        "\n",
        "---\n",
        "William Burbano Lima"
      ],
      "metadata": {
        "id": "Jv49Av21ldC_"
      }
    },
    {
      "cell_type": "code",
      "source": [],
      "metadata": {
        "id": "Jy5F2yvCudR_"
      },
      "execution_count": null,
      "outputs": []
    }
  ]
}