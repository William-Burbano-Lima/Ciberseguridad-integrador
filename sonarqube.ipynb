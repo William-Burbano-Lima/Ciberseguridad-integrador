{
  "nbformat": 4,
  "nbformat_minor": 0,
  "metadata": {
    "colab": {
      "provenance": [],
      "authorship_tag": "ABX9TyM+tAbq2ZHdd7ToSHn3OjBH",
      "include_colab_link": true
    },
    "kernelspec": {
      "name": "python3",
      "display_name": "Python 3"
    },
    "language_info": {
      "name": "python"
    }
  },
  "cells": [
    {
      "cell_type": "markdown",
      "metadata": {
        "id": "view-in-github",
        "colab_type": "text"
      },
      "source": [
        "<a href=\"https://colab.research.google.com/github/William-Burbano-Lima/Ciberseguridad-integrador/blob/main/sonarqube.ipynb\" target=\"_parent\"><img src=\"https://colab.research.google.com/assets/colab-badge.svg\" alt=\"Open In Colab\"/></a>"
      ]
    },
    {
      "cell_type": "code",
      "execution_count": null,
      "metadata": {
        "id": "6x1rlzzMHOHD"
      },
      "outputs": [],
      "source": []
    },
    {
      "cell_type": "markdown",
      "source": [
        "Talento Tech ciberseguridad\n",
        "___\n",
        "**guía paso a paso** para instalar, configurar y ejecutar **SonarQube** y **SonarScanner** para analizar código Python en **Windows**.\n",
        "\n",
        "---\n",
        "\n",
        "## **🔹 PASO 1: Instalar y Configurar SonarQube en Windows**\n",
        "1️⃣ **Descargar SonarQube**  \n",
        "   - Ve a [https://www.sonarqube.org/downloads/](https://www.sonarqube.org/downloads/).  \n",
        "   - Descarga la última versión **Community Edition** (ZIP).  \n",
        "\n",
        "2️⃣ **Extraer y Configurar SonarQube**  \n",
        "   - Extrae el archivo ZIP en `C:\\SonarQube`.  \n",
        "   - Abre **PowerShell como Administrador** y ve a la carpeta:  \n",
        "\n",
        "     ```powershell\n",
        "     cd C:\\SonarQube\\bin\\windows-x86-64\n",
        "     ```\n",
        "\n",
        "3️⃣ **Iniciar SonarQube**  \n",
        "   - Ejecuta este comando para iniciar el servidor:  \n",
        "\n",
        "     ```powershell\n",
        "     Start-Process -FilePath \"C:\\SonarQube\\bin\\windows-x86-64\\StartSonar.bat\" -NoNewWindow\n",
        "     ```\n",
        "\n",
        "   - Espera **1-2 minutos** hasta que se inicie completamente.  \n",
        "   - Abre [http://localhost:9000](http://localhost:9000) en tu navegador.  \n",
        "   - Usuario: `admin`  \n",
        "   - Contraseña: `admin`  \n",
        "\n",
        "---\n",
        "\n",
        "## **🔹 PASO 2: Instalar SonarScanner en Windows**\n",
        "1️⃣ **Descargar SonarScanner**  \n",
        "   - Ve a [https://docs.sonarcloud.io/advanced-setup/ci-based-analysis/sonarscanner-cli/](https://docs.sonarcloud.io/advanced-setup/ci-based-analysis/sonarscanner-cli/).  \n",
        "   - Descarga la versión para **Windows** y extrae en `C:\\SonarScanner`.  \n",
        "\n",
        "2️⃣ **Configurar Variables de Entorno**  \n",
        "   - Abre **PowerShell como Administrador** y ejecuta:  \n",
        "\n",
        "     ```powershell\n",
        "     [System.Environment]::SetEnvironmentVariable(\"SONAR_SCANNER_HOME\", \"C:\\SonarScanner\", [System.EnvironmentVariableTarget]::Machine)\n",
        "     [System.Environment]::SetEnvironmentVariable(\"Path\", $env:Path + \";C:\\SonarScanner\\bin\", [System.EnvironmentVariableTarget]::Machine)\n",
        "     ```\n",
        "\n",
        "   - **Cierra y vuelve a abrir PowerShell**.  \n",
        "   - Prueba la instalación ejecutando:  \n",
        "\n",
        "     ```powershell\n",
        "     sonar-scanner -v\n",
        "     ```\n",
        "\n",
        "---\n",
        "\n",
        "## **🔹 PASO 3: Configurar y Escanear un Proyecto Python**\n",
        "1️⃣ **Crear un Proyecto Python de Prueba**  \n",
        "   - Crea una carpeta `C:\\MiProyecto` y dentro coloca archivos **.py**.  \n",
        "\n",
        "2️⃣ **Crear el Archivo de Configuración `sonar-project.properties`**  \n",
        "   - Dentro de `C:\\MiProyecto`, crea el archivo `sonar-project.properties` con este contenido:\n",
        "\n",
        "     ```ini\n",
        "     sonar.projectKey=MiProyectoPython\n",
        "     sonar.projectName=MiProyectoPython\n",
        "     sonar.projectVersion=1.0\n",
        "     sonar.sources=.\n",
        "     sonar.language=py\n",
        "     sonar.sourceEncoding=UTF-8\n",
        "     sonar.host.url=http://localhost:9000\n",
        "     sonar.login=admin\n",
        "     sonar.password=admin\n",
        "     ```\n",
        "\n",
        "3️⃣ **Ejecutar el Análisis del Código Python**  \n",
        "   - En **PowerShell**, navega a `C:\\MiProyecto` y ejecuta:\n",
        "\n",
        "     ```powershell\n",
        "     sonar-scanner\n",
        "     ```\n",
        "\n",
        "   - Espera a que termine el análisis.  \n",
        "\n",
        "4️⃣ **Ver los Resultados en SonarQube**  \n",
        "   - Abre [http://localhost:9000](http://localhost:9000).  \n",
        "   - Inicia sesión y revisa el **dashboard** del proyecto analizado.  \n",
        "\n",
        "---\n",
        " 🔍"
      ],
      "metadata": {
        "id": "FuBn_hLXHOoQ"
      }
    },
    {
      "cell_type": "code",
      "source": [],
      "metadata": {
        "id": "snpXWcx7vSrw"
      },
      "execution_count": null,
      "outputs": []
    }
  ]
}