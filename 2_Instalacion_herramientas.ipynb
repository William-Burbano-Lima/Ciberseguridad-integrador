{
  "nbformat": 4,
  "nbformat_minor": 0,
  "metadata": {
    "colab": {
      "provenance": [],
      "authorship_tag": "ABX9TyN5oXq7ywPj2Uttxeq5fLTI",
      "include_colab_link": true
    },
    "kernelspec": {
      "name": "python3",
      "display_name": "Python 3"
    },
    "language_info": {
      "name": "python"
    }
  },
  "cells": [
    {
      "cell_type": "markdown",
      "metadata": {
        "id": "view-in-github",
        "colab_type": "text"
      },
      "source": [
        "<a href=\"https://colab.research.google.com/github/William-Burbano-Lima/Ciberseguridad-integrador/blob/main/2_Instalacion_herramientas.ipynb\" target=\"_parent\"><img src=\"https://colab.research.google.com/assets/colab-badge.svg\" alt=\"Open In Colab\"/></a>"
      ]
    },
    {
      "cell_type": "code",
      "execution_count": null,
      "metadata": {
        "id": "JnnR8pYc2ynn"
      },
      "outputs": [],
      "source": []
    },
    {
      "cell_type": "markdown",
      "source": [
        "\n",
        "**Talento Tech - Ciberseguridad.**\n",
        "___\n",
        "**Instalación de herramientas de analisis de red**\n",
        "\n",
        "**objetivo:** Cada una de estas herramientas tiene un papel fundamental en la ciberseguridad, permitiendo a los profesionales identificar, analizar, y mitigar vulnerabilidades y amenazas.\n",
        "\n",
        "### **Paso 1: Descargar e Instalar VirtualBox**\n",
        "1. **Descarga VirtualBox** desde el sitio oficial: [virtualbox.org](https://www.virtualbox.org).\n",
        "2. **Instala VirtualBox** siguiendo las instrucciones correspondientes a tu sistema operativo (Windows, macOS o Linux).\n",
        "\n",
        "### **Paso 2: Descargar la ISO de Kali Linux**\n",
        "1. Visita el sitio oficial de **Kali Linux**: [kali.org](https://www.kali.org).\n",
        "2. **Descarga la imagen ISO** de la versión adecuada para tu sistema (64 bits es común para sistemas modernos).\n",
        "\n",
        "### **Paso 3: Crear una Máquina Virtual en VirtualBox**\n",
        "1. **Abre VirtualBox** y haz clic en **\"Nueva\"**.\n",
        "2. Asigna un **nombre** (por ejemplo, \"Kali Linux\") y selecciona:\n",
        "   - **Tipo**: Linux\n",
        "   - **Versión**: Debian (64 bits).\n",
        "3. Haz clic en **\"Siguiente\"**.\n",
        "\n",
        "### **Paso 4: Configurar Recursos**\n",
        "1. **Memoria RAM**: Asigna al menos **2048 MB** (2 GB), pero si tu sistema lo permite, **4 GB** mejorará el rendimiento.\n",
        "2. **Disco Duro Virtual**:\n",
        "   - Selecciona **\"Crear un disco duro virtual ahora\"**.\n",
        "   - Elige **\"VDI\"** (VirtualBox Disk Image).\n",
        "   - Opta por **\"Reservado dinámicamente\"**.\n",
        "   - Asigna al menos **20 GB** de espacio en disco.\n",
        "\n",
        "### **Paso 5: Configurar la ISO de Kali Linux**\n",
        "1. Selecciona la máquina virtual creada, haz clic en **\"Configuración\"**, y ve a la pestaña **\"Almacenamiento\"**.\n",
        "2. Haz clic en el ícono del **disco vacío** bajo el controlador IDE y selecciona la **ISO de Kali Linux**.\n",
        "3. Haz clic en **\"Aceptar\"**.\n",
        "\n",
        "### **Paso 6: Iniciar la Instalación de Kali Linux**\n",
        "1. Haz clic en **\"Iniciar\"** para arrancar la máquina virtual.\n",
        "2. Selecciona **\"Graphical Install\"**.\n",
        "3. Sigue las instrucciones para seleccionar el idioma, la ubicación, y el teclado.\n",
        "4. Configura la red automáticamente o manualmente.\n",
        "5. Particiona el disco (recomendado: \"Guiado - usar todo el disco\").\n",
        "6. Configura usuarios y contraseñas.\n",
        "7. Instala GRUB y reinicia.\n",
        "\n",
        "### **Paso 7: Primer Inicio en Kali Linux**\n",
        "1. Al reiniciar, ingresa con las credenciales creadas.\n",
        "2. **Kali Linux** estará listo para su uso en VirtualBox.\n",
        "\n",
        "---\n",
        "\n",
        "### **Ejemplos de Uso en Redes y Ejercicios de Ciberseguridad**\n",
        "\n",
        "#### **Ejemplo 1: Escaneo de Red con Nmap**\n",
        "**Nmap** es una herramienta poderosa para el mapeo de redes y escaneo de puertos.\n",
        "\n",
        "1. Abre una terminal en Kali Linux.\n",
        "2. Ejecuta el siguiente comando para escanear todos los dispositivos en tu red local:\n",
        "   ```bash\n",
        "   nmap -sP 192.168.1.0/24\n",
        "   ```\n",
        "   Este comando escaneará la subred **192.168.1.0/24** y listará los dispositivos conectados.\n",
        "\n",
        "3. Para un escaneo más detallado, utiliza:\n",
        "   ```bash\n",
        "   nmap -A 192.168.1.1\n",
        "   ```\n",
        "   Esto realiza un escaneo intensivo en el dispositivo con IP **192.168.1.1**, mostrando información sobre el sistema operativo, servicios y puertos abiertos.\n",
        "\n",
        "#### **Ejemplo 2: Análisis de Tráfico de Red con Wireshark**\n",
        "**Wireshark** es una herramienta para capturar y analizar paquetes de red.\n",
        "\n",
        "1. Abre **Wireshark** desde el menú de aplicaciones.\n",
        "2. Selecciona la interfaz de red que deseas monitorear y haz clic en **\"Start\"**.\n",
        "3. Wireshark comenzará a capturar el tráfico en tiempo real. Puedes detener la captura y filtrar resultados, por ejemplo:\n",
        "   ```bash\n",
        "   http\n",
        "   ```\n",
        "   Esto mostrará solo los paquetes HTTP capturados.\n",
        "\n",
        "4. Utiliza Wireshark para analizar paquetes sospechosos y aprender sobre los protocolos que se usan en tu red.\n",
        "\n",
        "#### **Ejemplo 3: Ataque de Fuerza Bruta con Hydra**\n",
        "**Hydra** es una herramienta para realizar ataques de fuerza bruta a servicios como SSH o FTP.\n",
        "\n",
        "1. Abre una terminal y ejecuta Hydra contra un servicio SSH:\n",
        "   ```bash\n",
        "   hydra -l usuario -P /ruta/diccionario.txt ssh://192.168.1.100\n",
        "   ```\n",
        "   - `-l usuario`: Nombre de usuario objetivo.\n",
        "   - `-P /ruta/diccionario.txt`: Diccionario de contraseñas.\n",
        "   - `ssh://192.168.1.100`: Dirección del servidor SSH.\n",
        "\n",
        "2. Hydra intentará todas las combinaciones de contraseñas hasta encontrar la correcta o agotar el diccionario.\n",
        "\n",
        "**Nota**: Utiliza estas herramientas **solo en entornos controlados o con autorización** para evitar consecuencias legales.\n",
        "\n",
        "---\n",
        "William Burbano Lima"
      ],
      "metadata": {
        "id": "DybGY6Iu2zKL"
      }
    },
    {
      "cell_type": "code",
      "source": [],
      "metadata": {
        "id": "RnO_A5Wgf2-D"
      },
      "execution_count": null,
      "outputs": []
    }
  ]
}