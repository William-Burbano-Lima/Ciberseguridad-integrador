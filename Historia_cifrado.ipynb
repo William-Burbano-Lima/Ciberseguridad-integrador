{
  "nbformat": 4,
  "nbformat_minor": 0,
  "metadata": {
    "colab": {
      "provenance": [],
      "authorship_tag": "ABX9TyOTRmExeZZ5+6L0kMsPYeo7",
      "include_colab_link": true
    },
    "kernelspec": {
      "name": "python3",
      "display_name": "Python 3"
    },
    "language_info": {
      "name": "python"
    }
  },
  "cells": [
    {
      "cell_type": "markdown",
      "metadata": {
        "id": "view-in-github",
        "colab_type": "text"
      },
      "source": [
        "<a href=\"https://colab.research.google.com/github/William-Burbano-Lima/Ciberseguridad-integrador/blob/main/Historia_cifrado.ipynb\" target=\"_parent\"><img src=\"https://colab.research.google.com/assets/colab-badge.svg\" alt=\"Open In Colab\"/></a>"
      ]
    },
    {
      "cell_type": "code",
      "execution_count": null,
      "metadata": {
        "id": "9h7Ire5dWwi4"
      },
      "outputs": [],
      "source": []
    },
    {
      "cell_type": "markdown",
      "source": [
        "Talento Tech - Ciberseguridad\n",
        "___\n",
        "### Historia del Cifrado\n",
        "\n",
        "El cifrado ha sido una parte fundamental de la comunicación segura desde tiempos antiguos. Aquí te doy un recorrido histórico:\n",
        "\n",
        "#### 1. **Antigüedad**\n",
        "- **Cifrado de César (50 a.C.)**: Uno de los primeros métodos de cifrado documentados, utilizado por Julio César. Consiste en desplazar cada letra del alfabeto un número fijo de posiciones.\n",
        "- **Escítala Espartana**: Usada por los espartanos, consistía en enrollar una tira de pergamino alrededor de un bastón de diámetro específico para leer el mensaje.\n",
        "\n",
        "#### 2. **Edad Media**\n",
        "- **Cifrado Vigenère (1500s)**: Un método polialfabético que usa una clave para determinar el desplazamiento de las letras. Se consideró indecifrable hasta el siglo XIX.\n",
        "- **Cifrado de Alberti**: Inventado por Leon Battista Alberti, fue uno de los primeros en introducir el concepto de cambiar claves a lo largo del mensaje.\n",
        "\n",
        "#### 3. **Siglo XX**\n",
        "- **Máquina Enigma (1920s-1940s)**: Usada por los alemanes en la Segunda Guerra Mundial, su desciframiento por los aliados fue un hito en la historia del cifrado y la criptografía.\n",
        "- **DES (Data Encryption Standard)**: Adoptado en los años 1970 por el gobierno de los EE.UU. como estándar de cifrado.\n",
        "\n",
        "#### 4. **Era Moderna**\n",
        "- **AES (Advanced Encryption Standard)**: Adoptado en el año 2000 para reemplazar a DES, es uno de los algoritmos más utilizados actualmente.\n",
        "- **Criptografía Asimétrica**: Introducida en la década de 1970 con RSA, revolucionó el cifrado al permitir el uso de pares de claves públicas y privadas.\n",
        "\n",
        "### ¿Por Qué Cifrar Información?\n",
        "\n",
        "El cifrado se utiliza para proteger la confidencialidad y la integridad de la información, asegurando que solo las partes autorizadas puedan acceder a los datos. Algunas razones clave incluyen:\n",
        "\n",
        "#### 1. **Confidencialidad**\n",
        "- **Protección de Datos Sensibles**: El cifrado asegura que solo los destinatarios autorizados puedan leer los datos, protegiendo información personal, financiera y empresarial.\n",
        "\n",
        "#### 2. **Integridad**\n",
        "- **Prevención de Alteraciones**: Cifrar información ayuda a prevenir que los datos sean modificados sin autorización, asegurando que la información recibida es la misma que fue enviada.\n",
        "\n",
        "#### 3. **Autenticación**\n",
        "- **Verificación de Identidad**: Los métodos de cifrado como las firmas digitales permiten verificar la identidad del remitente de un mensaje, asegurando que los datos provienen de una fuente confiable.\n",
        "\n",
        "#### 4. **Cumplimiento Normativo**\n",
        "- **Regulaciones Legales**: Muchas leyes y regulaciones, como el GDPR en Europa, requieren que las organizaciones protejan los datos de los usuarios mediante el cifrado.\n",
        "\n",
        "#### 5. **Seguridad en la Comunicación**\n",
        "- **Prevención de Espionaje**: En comunicaciones digitales, como correos electrónicos y mensajes en línea, el cifrado protege contra la interceptación y espionaje por terceros.\n",
        "\n",
        "El cifrado es esencial en un mundo digital donde la protección de la información es crítica para la privacidad personal y la seguridad de las organizaciones.\n",
        "\n",
        "___\n",
        "William Burbano Lima"
      ],
      "metadata": {
        "id": "0IsHin1ZW0CE"
      }
    }
  ]
}