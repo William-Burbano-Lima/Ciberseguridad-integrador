{
  "nbformat": 4,
  "nbformat_minor": 0,
  "metadata": {
    "colab": {
      "provenance": [],
      "authorship_tag": "ABX9TyPmW6LsFeDOtAMs34qAkeSR",
      "include_colab_link": true
    },
    "kernelspec": {
      "name": "python3",
      "display_name": "Python 3"
    },
    "language_info": {
      "name": "python"
    }
  },
  "cells": [
    {
      "cell_type": "markdown",
      "metadata": {
        "id": "view-in-github",
        "colab_type": "text"
      },
      "source": [
        "<a href=\"https://colab.research.google.com/github/William-Burbano-Lima/Ciberseguridad-integrador/blob/main/30_01_25_integrador01.ipynb\" target=\"_parent\"><img src=\"https://colab.research.google.com/assets/colab-badge.svg\" alt=\"Open In Colab\"/></a>"
      ]
    },
    {
      "cell_type": "code",
      "execution_count": null,
      "metadata": {
        "id": "aZxF4i3HMbLt"
      },
      "outputs": [],
      "source": []
    },
    {
      "cell_type": "markdown",
      "source": [
        "Talento Tech - Ciberseguridad\n",
        "___\n",
        "PRACTICA DE **PHISHING** mediante el uso de herramienta **Evilginx2**\n",
        "___\n",
        "\n",
        "\n",
        "Ataque de *phishing* y cómo prevenirlo, guia de configuración de un entorno de simulación controlado con fines educativos y éticos.\n",
        "\n",
        "Cómo **configurar un servidor de phishing** en un entorno controlado para fines educativos, con el objetivo de entender cómo se llevan a cabo los ataques y cómo defenderse de ellos:\n",
        "\n",
        "### **Paso 1: Seleccionar la Herramienta de Phishing (Evilginx2)**\n",
        "Evilginx2 es una herramienta popular para realizar ataques de tipo *man-in-the-middle* (MITM) y *phishing* avanzado. Configura un servidor en tu máquina local o en un entorno de pruebas.\n",
        "\n",
        "1. **Instalar Evilginx2**:\n",
        "   - En un sistema basado en Linux (por ejemplo, Kali Linux), usa el siguiente comando para instalar Evilginx2:\n",
        "     ```bash\n",
        "     sudo apt-get update\n",
        "     sudo apt-get install git build-essential libpcap-dev libssl-dev\n",
        "     git clone https://github.com/evildroid/evilginx2\n",
        "     cd evilginx2\n",
        "     make\n",
        "     sudo make install\n",
        "     ```\n",
        "\n",
        "### **Paso 2: Configurar la IP Local como Host**\n",
        "Para utilizar Evilginx2, debes configurar una dirección IP local en tu máquina que actuará como el servidor del ataque.\n",
        "\n",
        "1. **Configurar una IP local**:\n",
        "   - Para asignar una dirección IP estática en Kali Linux, edita el archivo de configuración de la red.\n",
        "     ```bash\n",
        "     sudo nano /etc/network/interfaces\n",
        "     ```\n",
        "   - Agrega las siguientes líneas para configurar una IP estática:\n",
        "     ```bash\n",
        "     auto eth0\n",
        "     iface eth0 inet static\n",
        "     address 192.168.1.100   # Dirección IP local que deseas usar\n",
        "     netmask 255.255.255.0\n",
        "     gateway 192.168.1.1\n",
        "     ```\n",
        "\n",
        "2. **Reiniciar la red** para aplicar la nueva configuración:\n",
        "   ```bash\n",
        "   sudo service networking restart\n",
        "   ```\n",
        "\n",
        "### **Paso 3: Clonar un Sitio Web Legítimo**\n",
        "Evilginx2 permite crear un clon de un sitio web legítimo, como un portal de inicio de sesión de Google o Facebook.\n",
        "\n",
        "1. **Agregar el sitio que quieres clonar**:\n",
        "   - Utiliza el comando de Evilginx2 para crear el sitio clonado. Por ejemplo, si deseas clonar Google:\n",
        "     ```bash\n",
        "     sudo evilginx -p google\n",
        "     ```\n",
        "   - Esto configura el proxy para interceptar la autenticación de Google y redirigir a los usuarios a la página falsa.\n",
        "\n",
        "2. **Configurar el dominio**:\n",
        "   - Necesitarás un dominio (o subdominio) para que los usuarios accedan al enlace. Si estás utilizando un entorno local, puedes modificar tu archivo `/etc/hosts` para hacer que tu dominio falso apunte a la dirección IP local.\n",
        "\n",
        "### **Paso 4: Configuración de la Plantilla de la Página Falsa**\n",
        "Elige un diseño de página falsa o clona un sitio web legítimo.\n",
        "\n",
        "1. **Configurar la plantilla de inicio de sesión**:\n",
        "   - El servidor de Evilginx2 generará automáticamente una página de inicio de sesión falsa similar a la del sitio legítimo.\n",
        "   - Modifica la plantilla si deseas personalizarla (aunque muchas veces, los atacantes no necesitan hacerlo).\n",
        "\n",
        "### **Paso 5: Enviar el Enlace a la Víctima**\n",
        "Una vez que el sitio de phishing esté configurado, genera un enlace para enviarlo a la víctima. Este enlace redirigirá a la víctima a tu página falsa, donde ingresará sus credenciales.\n",
        "\n",
        "1. **Generar el enlace de phishing**:\n",
        "   - Por ejemplo, si tu servidor local tiene la IP `192.168.1.100` y tu dominio falso es `login-fake.com`, el enlace a enviar a la víctima será algo como:\n",
        "     ```\n",
        "     http://login-fake.com\n",
        "     ```\n",
        "\n",
        "2. **Enviarlo a la víctima**:\n",
        "   - Los atacantes suelen enviar estos enlaces a través de correos electrónicos, mensajes directos o en redes sociales, usando tácticas de ingeniería social para engañar a la víctima (por ejemplo, \"Verifica tu cuenta de Google\").\n",
        "\n",
        "### **Paso 6: Capturar las Credenciales**\n",
        "Cuando la víctima ingresa sus credenciales en la página falsa, Evilginx2 las intercepta y las registra.\n",
        "\n",
        "1. **Ver las credenciales capturadas**:\n",
        "   - Evilginx2 almacenará las credenciales en un archivo de log o base de datos, las cuales podrás revisar en el terminal o en un archivo de logs.\n",
        "   - Los atacantes podrán usar estos datos para realizar más ataques o acceso no autorizado.\n",
        "\n",
        "---\n",
        "\n",
        "### **Prevención y Defensa**\n",
        "\n",
        "Aunque este proceso describe cómo se lleva a cabo un ataque de phishing, es esencial que los usuarios y las organizaciones se eduquen sobre cómo prevenirlo:\n",
        "\n",
        "1. **Verificar los enlaces**: Antes de ingresar credenciales en un sitio web, asegúrate de que la URL sea legítima y segura (por ejemplo, usando HTTPS).\n",
        "2. **Autenticación de dos factores (2FA)**: Activa 2FA siempre que sea posible para agregar una capa adicional de seguridad.\n",
        "3. **Monitoreo de redes**: Utiliza herramientas de monitoreo y detección de intrusos para identificar tráfico de phishing en la red.\n",
        "4. **Concienciación sobre ingeniería social**: Educar a los usuarios para que no hagan clic en enlaces sospechosos ni proporcionen información sensible sin verificar.\n",
        "\n",
        "---\n",
        "\n",
        "### **Importante:**\n",
        "\n",
        "Es fundamental **nunca utilizar estos conocimientos para realizar ataques maliciosos**. Este tipo de actividades son ilegales y pueden tener consecuencias legales graves. Utilizaremos estas herramientas solo en entornos controlados.\n",
        "___\n",
        "\n"
      ],
      "metadata": {
        "id": "kks7Fu2bMb5L"
      }
    },
    {
      "cell_type": "code",
      "source": [],
      "metadata": {
        "id": "S0YIPxlngIQ0"
      },
      "execution_count": null,
      "outputs": []
    }
  ]
}