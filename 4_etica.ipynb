{
  "nbformat": 4,
  "nbformat_minor": 0,
  "metadata": {
    "colab": {
      "provenance": [],
      "authorship_tag": "ABX9TyPqZW1fe3l/7Gxo7Yqqf0Dq",
      "include_colab_link": true
    },
    "kernelspec": {
      "name": "python3",
      "display_name": "Python 3"
    },
    "language_info": {
      "name": "python"
    }
  },
  "cells": [
    {
      "cell_type": "markdown",
      "metadata": {
        "id": "view-in-github",
        "colab_type": "text"
      },
      "source": [
        "<a href=\"https://colab.research.google.com/github/William-Burbano-Lima/Ciberseguridad-integrador/blob/main/4_etica.ipynb\" target=\"_parent\"><img src=\"https://colab.research.google.com/assets/colab-badge.svg\" alt=\"Open In Colab\"/></a>"
      ]
    },
    {
      "cell_type": "code",
      "execution_count": null,
      "metadata": {
        "id": "9pPx1amu5x7W"
      },
      "outputs": [],
      "source": []
    },
    {
      "cell_type": "markdown",
      "source": [
        "**Talento Tech - Ciberseguridad**:\n",
        "\n",
        "---\n",
        "\n",
        "### **Etica y Recomendaciones**:  \n",
        "**Ética y Regulaciones en el Hacking Ético**\n",
        "\n",
        "### **Duración**:  \n",
        "1 hora\n",
        "\n",
        "### **Objetivos de la Clase**:\n",
        "- Entender la importancia de la ética en la práctica del hacking ético.\n",
        "- Conocer las recomendaciones y mejores prácticas para un hacking ético responsable.\n",
        "- Familiarizarse con los reglamentos y marcos legales que regulan el hacking ético.\n",
        "\n",
        "---\n",
        "\n",
        "### **Estructura de la Clase**:\n",
        "\n",
        "#### **1. Introducción al Hacking Ético (10 minutos)**\n",
        "- **Definición de Hacking Ético**:\n",
        "  - Diferencia entre hackers éticos, hackers de sombrero negro y sombrero gris.\n",
        "  - Rol de un hacker ético en la seguridad informática.\n",
        "- **Importancia de la Ética en el Hacking**:\n",
        "  - Por qué la ética es esencial en la práctica del hacking ético.\n",
        "  - Responsabilidad social y profesional.\n",
        "\n",
        "#### **2. Principios Éticos del Hacking Ético (15 minutos)**\n",
        "- **Confidencialidad**: No divulgar información obtenida sin autorización.\n",
        "- **Consentimiento**: Realizar pruebas solo con el permiso explícito de los propietarios del sistema.\n",
        "- **Responsabilidad**: Notificar cualquier vulnerabilidad encontrada de manera responsable.\n",
        "- **Transparencia**: Mantener la claridad en las acciones y métodos utilizados.\n",
        "- **Integridad**: No dañar los sistemas ni los datos durante las pruebas.\n",
        "\n",
        "#### **3. Recomendaciones y Mejores Prácticas (15 minutos)**\n",
        "- **Documentación**:\n",
        "  - Mantener registros detallados de todas las actividades realizadas durante una prueba.\n",
        "- **Comunicación**:\n",
        "  - Informar de forma regular a los propietarios sobre el progreso y hallazgos.\n",
        "- **Actualización Continua**:\n",
        "  - Mantenerse al día con las últimas vulnerabilidades, técnicas y herramientas.\n",
        "- **Uso de Herramientas Aprobadas**:\n",
        "  - Utilizar herramientas legales y aprobadas para las pruebas.\n",
        "- **Políticas de Contraseñas**:\n",
        "  - Fomentar políticas robustas de gestión de contraseñas y acceso.\n",
        "\n",
        "#### **4. Reglamentos y Marcos Legales (15 minutos)**\n",
        "- **Reglamentos Internacionales**:\n",
        "  - **ISO 27001**: Estándar para sistemas de gestión de la seguridad de la información.\n",
        "  - **GDPR**: Regulación general de protección de datos en Europa.\n",
        "  - **CIS Controls**: Controles esenciales para la defensa cibernética.\n",
        "- **Legislación Nacional**:\n",
        "  - Mención de leyes específicas según el país (como el **Computer Fraud and Abuse Act** en EE. UU. o la **Ley de Protección de Datos Personales** en Latinoamérica).\n",
        "- **Código de Conducta para Hackers Éticos**:\n",
        "  - Revisión de un código de conducta típico para profesionales en seguridad.\n",
        "\n",
        "#### **5. Conclusión y Discusión (5 minutos)**\n",
        "- **Resumen de los Puntos Clave**:\n",
        "  - Reafirmar la importancia de la ética y el cumplimiento legal.\n",
        "- **Preguntas y Respuestas**:\n",
        "  - Abordar dudas y reflexiones de los participantes.\n",
        "  \n",
        "---\n",
        "\n",
        "### **Recursos Adicionales**:\n",
        "- **OWASP**: Revisión de proyectos y guías de seguridad.\n",
        "- **EC-Council**: Información sobre certificaciones como **Certified Ethical Hacker (CEH)**.\n",
        "- **Lecturas Recomendadas**: \"The Code of Ethics for Hackers\" y \"Computer Security Incident Handling Guide\" de NIST.\n",
        "\n",
        "---\n",
        "William Burbano Lima"
      ],
      "metadata": {
        "id": "psmlSYxm5y7z"
      }
    },
    {
      "cell_type": "code",
      "source": [],
      "metadata": {
        "id": "cCYOMnOEb00p"
      },
      "execution_count": null,
      "outputs": []
    },
    {
      "cell_type": "markdown",
      "source": [
        "**Elaborar un ensayo sobre el tema de etica profesional en el acceso a pruebas en redes:**\n"
      ],
      "metadata": {
        "id": "e541_44ke8bc"
      }
    }
  ]
}